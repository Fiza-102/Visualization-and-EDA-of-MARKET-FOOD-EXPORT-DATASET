{
 "cells": [
  {
   "cell_type": "markdown",
   "id": "669ef9b2",
   "metadata": {},
   "source": [
    "# TASK : VISUALIZATION OF FOOD DATA EXPORTED  FOR  3 MONTHS"
   ]
  },
  {
   "cell_type": "markdown",
   "id": "4d39a2a6",
   "metadata": {},
   "source": [
    "# importing necessary libraries"
   ]
  },
  {
   "cell_type": "code",
   "execution_count": 1,
   "id": "2cf76915",
   "metadata": {},
   "outputs": [],
   "source": [
    "import pandas as pd\n",
    "import numpy as np\n",
    "import matplotlib.pyplot as plt\n",
    "import seaborn as sns\n",
    "import datetime as dt"
   ]
  },
  {
   "cell_type": "code",
   "execution_count": 2,
   "id": "49aa5dc5",
   "metadata": {},
   "outputs": [],
   "source": [
    "import openpyxl"
   ]
  },
  {
   "cell_type": "markdown",
   "id": "9fd54139",
   "metadata": {},
   "source": [
    "# read the data"
   ]
  },
  {
   "cell_type": "code",
   "execution_count": 3,
   "id": "c7ad668b",
   "metadata": {},
   "outputs": [],
   "source": [
    "data = pd.read_excel(r'F:\\Downloads\\Data Visualization Assignmnet.xlsx', engine='openpyxl')"
   ]
  },
  {
   "cell_type": "code",
   "execution_count": 4,
   "id": "f2b20475",
   "metadata": {},
   "outputs": [
    {
     "data": {
      "text/html": [
       "<div>\n",
       "<style scoped>\n",
       "    .dataframe tbody tr th:only-of-type {\n",
       "        vertical-align: middle;\n",
       "    }\n",
       "\n",
       "    .dataframe tbody tr th {\n",
       "        vertical-align: top;\n",
       "    }\n",
       "\n",
       "    .dataframe thead th {\n",
       "        text-align: right;\n",
       "    }\n",
       "</style>\n",
       "<table border=\"1\" class=\"dataframe\">\n",
       "  <thead>\n",
       "    <tr style=\"text-align: right;\">\n",
       "      <th></th>\n",
       "      <th>DATE</th>\n",
       "      <th>DESCRIPTION</th>\n",
       "      <th>UNIT</th>\n",
       "      <th>PLACE</th>\n",
       "    </tr>\n",
       "  </thead>\n",
       "  <tbody>\n",
       "    <tr>\n",
       "      <th>0</th>\n",
       "      <td>2022-04-01</td>\n",
       "      <td>Beef</td>\n",
       "      <td>1</td>\n",
       "      <td>Kolenchery</td>\n",
       "    </tr>\n",
       "    <tr>\n",
       "      <th>1</th>\n",
       "      <td>2022-04-01</td>\n",
       "      <td>Fish</td>\n",
       "      <td>1</td>\n",
       "      <td>Kolenchery</td>\n",
       "    </tr>\n",
       "    <tr>\n",
       "      <th>2</th>\n",
       "      <td>2022-04-03</td>\n",
       "      <td>Beef</td>\n",
       "      <td>2</td>\n",
       "      <td>Tripunithura</td>\n",
       "    </tr>\n",
       "    <tr>\n",
       "      <th>3</th>\n",
       "      <td>2022-04-05</td>\n",
       "      <td>Prawns</td>\n",
       "      <td>1</td>\n",
       "      <td>Bangalore</td>\n",
       "    </tr>\n",
       "    <tr>\n",
       "      <th>4</th>\n",
       "      <td>2022-04-06</td>\n",
       "      <td>Dates</td>\n",
       "      <td>1</td>\n",
       "      <td>Mangalore</td>\n",
       "    </tr>\n",
       "    <tr>\n",
       "      <th>...</th>\n",
       "      <td>...</td>\n",
       "      <td>...</td>\n",
       "      <td>...</td>\n",
       "      <td>...</td>\n",
       "    </tr>\n",
       "    <tr>\n",
       "      <th>106</th>\n",
       "      <td>2022-07-05</td>\n",
       "      <td>Lemon</td>\n",
       "      <td>4</td>\n",
       "      <td>NaN</td>\n",
       "    </tr>\n",
       "    <tr>\n",
       "      <th>107</th>\n",
       "      <td>2022-07-08</td>\n",
       "      <td>Beef</td>\n",
       "      <td>1</td>\n",
       "      <td>NaN</td>\n",
       "    </tr>\n",
       "    <tr>\n",
       "      <th>108</th>\n",
       "      <td>2022-07-15</td>\n",
       "      <td>Beef</td>\n",
       "      <td>1</td>\n",
       "      <td>NaN</td>\n",
       "    </tr>\n",
       "    <tr>\n",
       "      <th>109</th>\n",
       "      <td>2022-07-15</td>\n",
       "      <td>Prawns</td>\n",
       "      <td>1</td>\n",
       "      <td>NaN</td>\n",
       "    </tr>\n",
       "    <tr>\n",
       "      <th>110</th>\n",
       "      <td>2022-07-15</td>\n",
       "      <td>Lemon</td>\n",
       "      <td>1</td>\n",
       "      <td>NaN</td>\n",
       "    </tr>\n",
       "  </tbody>\n",
       "</table>\n",
       "<p>111 rows × 4 columns</p>\n",
       "</div>"
      ],
      "text/plain": [
       "          DATE DESCRIPTION  UNIT          PLACE\n",
       "0   2022-04-01        Beef     1    Kolenchery \n",
       "1   2022-04-01        Fish     1    Kolenchery \n",
       "2   2022-04-03        Beef     2  Tripunithura \n",
       "3   2022-04-05      Prawns     1     Bangalore \n",
       "4   2022-04-06       Dates     1      Mangalore\n",
       "..         ...         ...   ...            ...\n",
       "106 2022-07-05       Lemon     4            NaN\n",
       "107 2022-07-08        Beef     1            NaN\n",
       "108 2022-07-15        Beef     1            NaN\n",
       "109 2022-07-15      Prawns     1            NaN\n",
       "110 2022-07-15       Lemon     1            NaN\n",
       "\n",
       "[111 rows x 4 columns]"
      ]
     },
     "execution_count": 4,
     "metadata": {},
     "output_type": "execute_result"
    }
   ],
   "source": [
    "data"
   ]
  },
  {
   "cell_type": "markdown",
   "id": "be141e00",
   "metadata": {},
   "source": [
    "# data cleaning :\n",
    "   I WILL CHECK IF THE DATA HAS NUL VALUES OF NOT"
   ]
  },
  {
   "cell_type": "code",
   "execution_count": 5,
   "id": "6c384bb4",
   "metadata": {},
   "outputs": [
    {
     "data": {
      "text/plain": [
       "DATE           0\n",
       "DESCRIPTION    0\n",
       "UNIT           0\n",
       "PLACE          8\n",
       "dtype: int64"
      ]
     },
     "execution_count": 5,
     "metadata": {},
     "output_type": "execute_result"
    }
   ],
   "source": [
    "data.isnull().sum()"
   ]
  },
  {
   "cell_type": "markdown",
   "id": "3e84bdf3",
   "metadata": {},
   "source": [
    "as we can see the column PLACE has 8 null values \n",
    "we will remove it following  below procedure"
   ]
  },
  {
   "cell_type": "code",
   "execution_count": 6,
   "id": "a331a740",
   "metadata": {},
   "outputs": [],
   "source": [
    "data.dropna(inplace=True)"
   ]
  },
  {
   "cell_type": "markdown",
   "id": "18f78dfc",
   "metadata": {},
   "source": [
    "# as in given data set the column DATE datatype is checked"
   ]
  },
  {
   "cell_type": "code",
   "execution_count": 7,
   "id": "52161b11",
   "metadata": {},
   "outputs": [
    {
     "data": {
      "text/plain": [
       "dtype('<M8[ns]')"
      ]
     },
     "execution_count": 7,
     "metadata": {},
     "output_type": "execute_result"
    }
   ],
   "source": [
    "data['DATE'].dtype              # it is the form of datetime "
   ]
  },
  {
   "cell_type": "markdown",
   "id": "6be0ae30",
   "metadata": {},
   "source": [
    "# I imported datetime as dt to extract the day , month from the given DATE column"
   ]
  },
  {
   "cell_type": "code",
   "execution_count": 9,
   "id": "1218ca0f",
   "metadata": {},
   "outputs": [
    {
     "data": {
      "text/plain": [
       "0      4\n",
       "1      4\n",
       "2      4\n",
       "3      4\n",
       "4      4\n",
       "      ..\n",
       "98     6\n",
       "99     6\n",
       "100    6\n",
       "101    6\n",
       "102    6\n",
       "Name: month, Length: 103, dtype: int64"
      ]
     },
     "execution_count": 9,
     "metadata": {},
     "output_type": "execute_result"
    }
   ],
   "source": [
    "data['month']=data['DATE'].dt.month\n",
    "data['month']"
   ]
  },
  {
   "cell_type": "code",
   "execution_count": 10,
   "id": "3d876946",
   "metadata": {},
   "outputs": [
    {
     "data": {
      "text/plain": [
       "0       1\n",
       "1       1\n",
       "2       3\n",
       "3       5\n",
       "4       6\n",
       "       ..\n",
       "98     26\n",
       "99     28\n",
       "100    28\n",
       "101    28\n",
       "102    28\n",
       "Name: day, Length: 103, dtype: int64"
      ]
     },
     "execution_count": 10,
     "metadata": {},
     "output_type": "execute_result"
    }
   ],
   "source": [
    "data['day']=data['DATE'].dt.day\n",
    "data['day']"
   ]
  },
  {
   "cell_type": "code",
   "execution_count": 11,
   "id": "e787e1d9",
   "metadata": {},
   "outputs": [
    {
     "data": {
      "text/plain": [
       "0      2022\n",
       "1      2022\n",
       "2      2022\n",
       "3      2022\n",
       "4      2022\n",
       "       ... \n",
       "98     2022\n",
       "99     2022\n",
       "100    2022\n",
       "101    2022\n",
       "102    2022\n",
       "Name: year, Length: 103, dtype: int64"
      ]
     },
     "execution_count": 11,
     "metadata": {},
     "output_type": "execute_result"
    }
   ],
   "source": [
    "data['year']=data['DATE'].dt.year\n",
    "data['year']"
   ]
  },
  {
   "cell_type": "code",
   "execution_count": 12,
   "id": "b20b64ed",
   "metadata": {},
   "outputs": [],
   "source": [
    "# now the DATE column has no use as i have extracted required information"
   ]
  },
  {
   "cell_type": "code",
   "execution_count": 13,
   "id": "4c508f44",
   "metadata": {},
   "outputs": [
    {
     "data": {
      "text/html": [
       "<div>\n",
       "<style scoped>\n",
       "    .dataframe tbody tr th:only-of-type {\n",
       "        vertical-align: middle;\n",
       "    }\n",
       "\n",
       "    .dataframe tbody tr th {\n",
       "        vertical-align: top;\n",
       "    }\n",
       "\n",
       "    .dataframe thead th {\n",
       "        text-align: right;\n",
       "    }\n",
       "</style>\n",
       "<table border=\"1\" class=\"dataframe\">\n",
       "  <thead>\n",
       "    <tr style=\"text-align: right;\">\n",
       "      <th></th>\n",
       "      <th>DESCRIPTION</th>\n",
       "      <th>UNIT</th>\n",
       "      <th>PLACE</th>\n",
       "      <th>month</th>\n",
       "      <th>day</th>\n",
       "      <th>year</th>\n",
       "    </tr>\n",
       "  </thead>\n",
       "  <tbody>\n",
       "    <tr>\n",
       "      <th>0</th>\n",
       "      <td>Beef</td>\n",
       "      <td>1</td>\n",
       "      <td>Kolenchery</td>\n",
       "      <td>4</td>\n",
       "      <td>1</td>\n",
       "      <td>2022</td>\n",
       "    </tr>\n",
       "    <tr>\n",
       "      <th>1</th>\n",
       "      <td>Fish</td>\n",
       "      <td>1</td>\n",
       "      <td>Kolenchery</td>\n",
       "      <td>4</td>\n",
       "      <td>1</td>\n",
       "      <td>2022</td>\n",
       "    </tr>\n",
       "    <tr>\n",
       "      <th>2</th>\n",
       "      <td>Beef</td>\n",
       "      <td>2</td>\n",
       "      <td>Tripunithura</td>\n",
       "      <td>4</td>\n",
       "      <td>3</td>\n",
       "      <td>2022</td>\n",
       "    </tr>\n",
       "    <tr>\n",
       "      <th>3</th>\n",
       "      <td>Prawns</td>\n",
       "      <td>1</td>\n",
       "      <td>Bangalore</td>\n",
       "      <td>4</td>\n",
       "      <td>5</td>\n",
       "      <td>2022</td>\n",
       "    </tr>\n",
       "    <tr>\n",
       "      <th>4</th>\n",
       "      <td>Dates</td>\n",
       "      <td>1</td>\n",
       "      <td>Mangalore</td>\n",
       "      <td>4</td>\n",
       "      <td>6</td>\n",
       "      <td>2022</td>\n",
       "    </tr>\n",
       "    <tr>\n",
       "      <th>...</th>\n",
       "      <td>...</td>\n",
       "      <td>...</td>\n",
       "      <td>...</td>\n",
       "      <td>...</td>\n",
       "      <td>...</td>\n",
       "      <td>...</td>\n",
       "    </tr>\n",
       "    <tr>\n",
       "      <th>98</th>\n",
       "      <td>Prawns</td>\n",
       "      <td>1</td>\n",
       "      <td>Kochi</td>\n",
       "      <td>6</td>\n",
       "      <td>26</td>\n",
       "      <td>2022</td>\n",
       "    </tr>\n",
       "    <tr>\n",
       "      <th>99</th>\n",
       "      <td>Prawns</td>\n",
       "      <td>4</td>\n",
       "      <td>Kottayam</td>\n",
       "      <td>6</td>\n",
       "      <td>28</td>\n",
       "      <td>2022</td>\n",
       "    </tr>\n",
       "    <tr>\n",
       "      <th>100</th>\n",
       "      <td>Fish</td>\n",
       "      <td>3</td>\n",
       "      <td>Kottayam</td>\n",
       "      <td>6</td>\n",
       "      <td>28</td>\n",
       "      <td>2022</td>\n",
       "    </tr>\n",
       "    <tr>\n",
       "      <th>101</th>\n",
       "      <td>King Fish</td>\n",
       "      <td>1</td>\n",
       "      <td>Kottayam</td>\n",
       "      <td>6</td>\n",
       "      <td>28</td>\n",
       "      <td>2022</td>\n",
       "    </tr>\n",
       "    <tr>\n",
       "      <th>102</th>\n",
       "      <td>Beef</td>\n",
       "      <td>4</td>\n",
       "      <td>Kottayam</td>\n",
       "      <td>6</td>\n",
       "      <td>28</td>\n",
       "      <td>2022</td>\n",
       "    </tr>\n",
       "  </tbody>\n",
       "</table>\n",
       "<p>103 rows × 6 columns</p>\n",
       "</div>"
      ],
      "text/plain": [
       "    DESCRIPTION  UNIT          PLACE  month  day  year\n",
       "0          Beef     1    Kolenchery       4    1  2022\n",
       "1          Fish     1    Kolenchery       4    1  2022\n",
       "2          Beef     2  Tripunithura       4    3  2022\n",
       "3        Prawns     1     Bangalore       4    5  2022\n",
       "4         Dates     1      Mangalore      4    6  2022\n",
       "..          ...   ...            ...    ...  ...   ...\n",
       "98       Prawns     1          Kochi      6   26  2022\n",
       "99       Prawns     4       Kottayam      6   28  2022\n",
       "100        Fish     3       Kottayam      6   28  2022\n",
       "101   King Fish     1       Kottayam      6   28  2022\n",
       "102        Beef     4       Kottayam      6   28  2022\n",
       "\n",
       "[103 rows x 6 columns]"
      ]
     },
     "execution_count": 13,
     "metadata": {},
     "output_type": "execute_result"
    }
   ],
   "source": [
    "data.drop('DATE',axis=1)"
   ]
  },
  {
   "cell_type": "code",
   "execution_count": 14,
   "id": "e13f874a",
   "metadata": {},
   "outputs": [],
   "source": [
    "#APRIL TO JULY \n",
    "#3 MONTH AND 15 DAYS DATA"
   ]
  },
  {
   "cell_type": "code",
   "execution_count": 15,
   "id": "2d39a6cf",
   "metadata": {},
   "outputs": [
    {
     "name": "stdout",
     "output_type": "stream",
     "text": [
      "<class 'pandas.core.frame.DataFrame'>\n",
      "Int64Index: 103 entries, 0 to 102\n",
      "Data columns (total 7 columns):\n",
      " #   Column       Non-Null Count  Dtype         \n",
      "---  ------       --------------  -----         \n",
      " 0   DATE         103 non-null    datetime64[ns]\n",
      " 1   DESCRIPTION  103 non-null    object        \n",
      " 2   UNIT         103 non-null    int64         \n",
      " 3   PLACE        103 non-null    object        \n",
      " 4   month        103 non-null    int64         \n",
      " 5   day          103 non-null    int64         \n",
      " 6   year         103 non-null    int64         \n",
      "dtypes: datetime64[ns](1), int64(4), object(2)\n",
      "memory usage: 6.4+ KB\n"
     ]
    }
   ],
   "source": [
    "data.info()       "
   ]
  },
  {
   "cell_type": "code",
   "execution_count": 16,
   "id": "1bc9b84c",
   "metadata": {},
   "outputs": [
    {
     "data": {
      "text/html": [
       "<div>\n",
       "<style scoped>\n",
       "    .dataframe tbody tr th:only-of-type {\n",
       "        vertical-align: middle;\n",
       "    }\n",
       "\n",
       "    .dataframe tbody tr th {\n",
       "        vertical-align: top;\n",
       "    }\n",
       "\n",
       "    .dataframe thead th {\n",
       "        text-align: right;\n",
       "    }\n",
       "</style>\n",
       "<table border=\"1\" class=\"dataframe\">\n",
       "  <thead>\n",
       "    <tr style=\"text-align: right;\">\n",
       "      <th></th>\n",
       "      <th>UNIT</th>\n",
       "      <th>month</th>\n",
       "      <th>day</th>\n",
       "      <th>year</th>\n",
       "    </tr>\n",
       "  </thead>\n",
       "  <tbody>\n",
       "    <tr>\n",
       "      <th>count</th>\n",
       "      <td>103.000000</td>\n",
       "      <td>103.000000</td>\n",
       "      <td>103.000000</td>\n",
       "      <td>103.0</td>\n",
       "    </tr>\n",
       "    <tr>\n",
       "      <th>mean</th>\n",
       "      <td>1.718447</td>\n",
       "      <td>4.805825</td>\n",
       "      <td>15.747573</td>\n",
       "      <td>2022.0</td>\n",
       "    </tr>\n",
       "    <tr>\n",
       "      <th>std</th>\n",
       "      <td>1.097390</td>\n",
       "      <td>0.767709</td>\n",
       "      <td>8.074067</td>\n",
       "      <td>0.0</td>\n",
       "    </tr>\n",
       "    <tr>\n",
       "      <th>min</th>\n",
       "      <td>1.000000</td>\n",
       "      <td>4.000000</td>\n",
       "      <td>1.000000</td>\n",
       "      <td>2022.0</td>\n",
       "    </tr>\n",
       "    <tr>\n",
       "      <th>25%</th>\n",
       "      <td>1.000000</td>\n",
       "      <td>4.000000</td>\n",
       "      <td>8.000000</td>\n",
       "      <td>2022.0</td>\n",
       "    </tr>\n",
       "    <tr>\n",
       "      <th>50%</th>\n",
       "      <td>1.000000</td>\n",
       "      <td>5.000000</td>\n",
       "      <td>19.000000</td>\n",
       "      <td>2022.0</td>\n",
       "    </tr>\n",
       "    <tr>\n",
       "      <th>75%</th>\n",
       "      <td>2.000000</td>\n",
       "      <td>5.000000</td>\n",
       "      <td>21.000000</td>\n",
       "      <td>2022.0</td>\n",
       "    </tr>\n",
       "    <tr>\n",
       "      <th>max</th>\n",
       "      <td>6.000000</td>\n",
       "      <td>6.000000</td>\n",
       "      <td>31.000000</td>\n",
       "      <td>2022.0</td>\n",
       "    </tr>\n",
       "  </tbody>\n",
       "</table>\n",
       "</div>"
      ],
      "text/plain": [
       "             UNIT       month         day    year\n",
       "count  103.000000  103.000000  103.000000   103.0\n",
       "mean     1.718447    4.805825   15.747573  2022.0\n",
       "std      1.097390    0.767709    8.074067     0.0\n",
       "min      1.000000    4.000000    1.000000  2022.0\n",
       "25%      1.000000    4.000000    8.000000  2022.0\n",
       "50%      1.000000    5.000000   19.000000  2022.0\n",
       "75%      2.000000    5.000000   21.000000  2022.0\n",
       "max      6.000000    6.000000   31.000000  2022.0"
      ]
     },
     "execution_count": 16,
     "metadata": {},
     "output_type": "execute_result"
    }
   ],
   "source": [
    "data.describe()    # this gives us the statistical insight"
   ]
  },
  {
   "cell_type": "code",
   "execution_count": 17,
   "id": "9639beed",
   "metadata": {},
   "outputs": [
    {
     "data": {
      "text/plain": [
       "array(['Beef', 'Fish', 'Prawns', 'Dates', 'Mango', 'Lemon', 'Dry fruits',\n",
       "       'King Fish', 'Dryfruits', 'Kadumanga'], dtype=object)"
      ]
     },
     "execution_count": 17,
     "metadata": {},
     "output_type": "execute_result"
    }
   ],
   "source": [
    "data['DESCRIPTION'].unique()        # we will check the unque values"
   ]
  },
  {
   "cell_type": "code",
   "execution_count": 18,
   "id": "453f1443",
   "metadata": {},
   "outputs": [
    {
     "data": {
      "text/plain": [
       "array(['Kolenchery ', 'Tripunithura ', 'Bangalore ', 'Mangalore',\n",
       "       'Pathanamthitta ', 'Pune', 'Malappuram', 'Padappai- Tamilnadu',\n",
       "       'Nettoor', 'Kottayam', 'Jabalpur - Madhyapradesh',\n",
       "       'Eroor - Vytila', 'Kanjiramttom', 'Vazhakala', 'Noida - UP',\n",
       "       'Mumbai', 'United States', 'Bangalore to US', 'To Kottayam',\n",
       "       'Chennai', 'Kumily', 'Mangalore - Ullal', 'Tripunithura', 'Kochi',\n",
       "       'Eloor', 'Tripunithurra', 'Aroor', 'Thrissur/ Guruvayoor',\n",
       "       'Kakkanad', 'Bangalore', 'malappuram', 'Kadavanthra',\n",
       "       'kadavanthra'], dtype=object)"
      ]
     },
     "execution_count": 18,
     "metadata": {},
     "output_type": "execute_result"
    }
   ],
   "source": [
    "data['PLACE'].unique()"
   ]
  },
  {
   "cell_type": "markdown",
   "id": "e0200d1e",
   "metadata": {},
   "source": [
    "#  VISUALIZTION OF GIVEN DATA USING DIFFERENT PLOTS"
   ]
  },
  {
   "cell_type": "code",
   "execution_count": 19,
   "id": "a149d51b",
   "metadata": {},
   "outputs": [
    {
     "name": "stderr",
     "output_type": "stream",
     "text": [
      "c:\\users\\zishaan\\appdata\\local\\programs\\python\\python39\\lib\\site-packages\\seaborn\\_decorators.py:36: FutureWarning: Pass the following variable as a keyword arg: x. From version 0.12, the only valid positional argument will be `data`, and passing other arguments without an explicit keyword will result in an error or misinterpretation.\n",
      "  warnings.warn(\n"
     ]
    },
    {
     "data": {
      "text/plain": [
       "<AxesSubplot:xlabel='month', ylabel='count'>"
      ]
     },
     "execution_count": 19,
     "metadata": {},
     "output_type": "execute_result"
    },
    {
     "data": {
      "image/png": "[encoded data removed]",
      "text/plain": [
       "<Figure size 792x360 with 1 Axes>"
      ]
     },
     "metadata": {
      "needs_background": "light"
     },
     "output_type": "display_data"
    }
   ],
   "source": [
    "plt.figure(figsize=(11,5))\n",
    "sns.countplot(data['month'])             "
   ]
  },
  {
   "cell_type": "markdown",
   "id": "b692e0f3",
   "metadata": {},
   "source": [
    "# from above countplot i got to know about the duration on month whose data is given i.e. data of 3 months \n"
   ]
  },
  {
   "cell_type": "code",
   "execution_count": 20,
   "id": "65e0dcc3",
   "metadata": {},
   "outputs": [
    {
     "name": "stderr",
     "output_type": "stream",
     "text": [
      "c:\\users\\zishaan\\appdata\\local\\programs\\python\\python39\\lib\\site-packages\\seaborn\\_decorators.py:36: FutureWarning: Pass the following variable as a keyword arg: x. From version 0.12, the only valid positional argument will be `data`, and passing other arguments without an explicit keyword will result in an error or misinterpretation.\n",
      "  warnings.warn(\n"
     ]
    },
    {
     "data": {
      "text/plain": [
       "<AxesSubplot:xlabel='DESCRIPTION', ylabel='count'>"
      ]
     },
     "execution_count": 20,
     "metadata": {},
     "output_type": "execute_result"
    },
    {
     "data": {
      "image/png": "[encoded data removed]",
      "text/plain": [
       "<Figure size 792x360 with 1 Axes>"
      ]
     },
     "metadata": {
      "needs_background": "light"
     },
     "output_type": "display_data"
    }
   ],
   "source": [
    "plt.figure(figsize=(11,5))\n",
    "sns.countplot(data['DESCRIPTION'])"
   ]
  },
  {
   "cell_type": "markdown",
   "id": "1c98f544",
   "metadata": {},
   "source": [
    "# from above plot i got to know that Beef is demanded max times and Kadumanga least times"
   ]
  },
  {
   "cell_type": "code",
   "execution_count": 41,
   "id": "0927293e",
   "metadata": {},
   "outputs": [
    {
     "name": "stderr",
     "output_type": "stream",
     "text": [
      "c:\\users\\zishaan\\appdata\\local\\programs\\python\\python39\\lib\\site-packages\\seaborn\\_decorators.py:36: FutureWarning: Pass the following variable as a keyword arg: x. From version 0.12, the only valid positional argument will be `data`, and passing other arguments without an explicit keyword will result in an error or misinterpretation.\n",
      "  warnings.warn(\n"
     ]
    },
    {
     "data": {
      "text/plain": [
       "<AxesSubplot:xlabel='UNIT', ylabel='count'>"
      ]
     },
     "execution_count": 41,
     "metadata": {},
     "output_type": "execute_result"
    },
    {
     "data": {
      "image/png": "[encoded data removed]",
      "text/plain": [
       "<Figure size 792x360 with 1 Axes>"
      ]
     },
     "metadata": {
      "needs_background": "light"
     },
     "output_type": "display_data"
    }
   ],
   "source": [
    "plt.figure(figsize=(11,5))          \n",
    "sns.countplot(data['UNIT'])"
   ]
  },
  {
   "cell_type": "code",
   "execution_count": 42,
   "id": "44af1284",
   "metadata": {},
   "outputs": [],
   "source": [
    "#above plot shows that UNIT column has range from 1-6 \n"
   ]
  },
  {
   "cell_type": "code",
   "execution_count": 22,
   "id": "a96f6337",
   "metadata": {},
   "outputs": [
    {
     "data": {
      "text/plain": [
       "Beef          30\n",
       "Prawns        28\n",
       "Fish          12\n",
       "Mango         10\n",
       "Lemon          7\n",
       "King Fish      7\n",
       "Dates          3\n",
       "Dryfruits      3\n",
       "Dry fruits     2\n",
       "Kadumanga      1\n",
       "Name: DESCRIPTION, dtype: int64"
      ]
     },
     "execution_count": 22,
     "metadata": {},
     "output_type": "execute_result"
    }
   ],
   "source": [
    "data['DESCRIPTION'].value_counts()    # maximum times beef is being ordered "
   ]
  },
  {
   "cell_type": "code",
   "execution_count": 23,
   "id": "0384034a",
   "metadata": {},
   "outputs": [
    {
     "data": {
      "text/plain": [
       "<AxesSubplot:ylabel='DESCRIPTION'>"
      ]
     },
     "execution_count": 23,
     "metadata": {},
     "output_type": "execute_result"
    },
    {
     "data": {
      "image/png": "[encoded data removed]",
      "text/plain": [
       "<Figure size 432x288 with 1 Axes>"
      ]
     },
     "metadata": {
      "needs_background": "light"
     },
     "output_type": "display_data"
    }
   ],
   "source": [
    "sns.lineplot(data=data['DESCRIPTION'])"
   ]
  },
  {
   "cell_type": "code",
   "execution_count": 48,
   "id": "d8e3652e",
   "metadata": {},
   "outputs": [
    {
     "data": {
      "text/plain": [
       "<AxesSubplot:ylabel='month'>"
      ]
     },
     "execution_count": 48,
     "metadata": {},
     "output_type": "execute_result"
    },
    {
     "data": {
      "image/png": "[encoded data removed]",
      "text/plain": [
       "<Figure size 432x288 with 1 Axes>"
      ]
     },
     "metadata": {
      "needs_background": "light"
     },
     "output_type": "display_data"
    }
   ],
   "source": [
    "sns.lineplot(data=data['month'])            # month in lineplot to show which month people were more active"
   ]
  },
  {
   "cell_type": "code",
   "execution_count": 25,
   "id": "35fefa14",
   "metadata": {},
   "outputs": [
    {
     "data": {
      "text/plain": [
       "<AxesSubplot:xlabel='DESCRIPTION', ylabel='day'>"
      ]
     },
     "execution_count": 25,
     "metadata": {},
     "output_type": "execute_result"
    },
    {
     "data": {
      "image/png": "[encoded data removed]",
      "text/plain": [
       "<Figure size 432x288 with 1 Axes>"
      ]
     },
     "metadata": {
      "needs_background": "light"
     },
     "output_type": "display_data"
    }
   ],
   "source": [
    "sns.scatterplot(x=data['DESCRIPTION'],y=data['day'])    # this hows that the data does not have that much randomness, it is in given line"
   ]
  },
  {
   "cell_type": "code",
   "execution_count": 49,
   "id": "75ffda37",
   "metadata": {},
   "outputs": [
    {
     "data": {
      "text/plain": [
       "<AxesSubplot:xlabel='DESCRIPTION', ylabel='UNIT'>"
      ]
     },
     "execution_count": 49,
     "metadata": {},
     "output_type": "execute_result"
    },
    {
     "data": {
      "image/png": "[encoded data removed]",
      "text/plain": [
       "<Figure size 432x288 with 1 Axes>"
      ]
     },
     "metadata": {
      "needs_background": "light"
     },
     "output_type": "display_data"
    }
   ],
   "source": [
    "sns.scatterplot(x=data['DESCRIPTION'],y=data['UNIT'])   # these data together dont contribute that much in finding pattern \n",
    "# data are scattered completely"
   ]
  },
  {
   "cell_type": "code",
   "execution_count": 27,
   "id": "e0f3ff22",
   "metadata": {},
   "outputs": [],
   "source": [
    "# we need to check the relation."
   ]
  },
  {
   "cell_type": "code",
   "execution_count": 50,
   "id": "c755f996",
   "metadata": {},
   "outputs": [
    {
     "data": {
      "text/plain": [
       "DESCRIPTION        Prawns\n",
       "month                   6\n",
       "PLACE          malappuram\n",
       "dtype: object"
      ]
     },
     "execution_count": 50,
     "metadata": {},
     "output_type": "execute_result"
    }
   ],
   "source": [
    "# to extract the insights of data\n",
    "# which place demands max out of description in whic month\n",
    "data[['DESCRIPTION','month','PLACE']].max()"
   ]
  },
  {
   "cell_type": "code",
   "execution_count": 39,
   "id": "7f23bd96",
   "metadata": {},
   "outputs": [
    {
     "data": {
      "text/plain": [
       "DESCRIPTION        Prawns\n",
       "PLACE          malappuram\n",
       "dtype: object"
      ]
     },
     "execution_count": 39,
     "metadata": {},
     "output_type": "execute_result"
    }
   ],
   "source": [
    "data[['DESCRIPTION','PLACE']].max()"
   ]
  },
  {
   "cell_type": "markdown",
   "id": "b9918bd2",
   "metadata": {},
   "source": [
    "# to check the correlation between diff features"
   ]
  },
  {
   "cell_type": "code",
   "execution_count": 28,
   "id": "c55b82a1",
   "metadata": {},
   "outputs": [
    {
     "data": {
      "text/html": [
       "<div>\n",
       "<style scoped>\n",
       "    .dataframe tbody tr th:only-of-type {\n",
       "        vertical-align: middle;\n",
       "    }\n",
       "\n",
       "    .dataframe tbody tr th {\n",
       "        vertical-align: top;\n",
       "    }\n",
       "\n",
       "    .dataframe thead th {\n",
       "        text-align: right;\n",
       "    }\n",
       "</style>\n",
       "<table border=\"1\" class=\"dataframe\">\n",
       "  <thead>\n",
       "    <tr style=\"text-align: right;\">\n",
       "      <th></th>\n",
       "      <th>UNIT</th>\n",
       "      <th>month</th>\n",
       "      <th>day</th>\n",
       "      <th>year</th>\n",
       "    </tr>\n",
       "  </thead>\n",
       "  <tbody>\n",
       "    <tr>\n",
       "      <th>UNIT</th>\n",
       "      <td>1.000000</td>\n",
       "      <td>0.237034</td>\n",
       "      <td>-0.072276</td>\n",
       "      <td>NaN</td>\n",
       "    </tr>\n",
       "    <tr>\n",
       "      <th>month</th>\n",
       "      <td>0.237034</td>\n",
       "      <td>1.000000</td>\n",
       "      <td>0.066353</td>\n",
       "      <td>NaN</td>\n",
       "    </tr>\n",
       "    <tr>\n",
       "      <th>day</th>\n",
       "      <td>-0.072276</td>\n",
       "      <td>0.066353</td>\n",
       "      <td>1.000000</td>\n",
       "      <td>NaN</td>\n",
       "    </tr>\n",
       "    <tr>\n",
       "      <th>year</th>\n",
       "      <td>NaN</td>\n",
       "      <td>NaN</td>\n",
       "      <td>NaN</td>\n",
       "      <td>NaN</td>\n",
       "    </tr>\n",
       "  </tbody>\n",
       "</table>\n",
       "</div>"
      ],
      "text/plain": [
       "           UNIT     month       day  year\n",
       "UNIT   1.000000  0.237034 -0.072276   NaN\n",
       "month  0.237034  1.000000  0.066353   NaN\n",
       "day   -0.072276  0.066353  1.000000   NaN\n",
       "year        NaN       NaN       NaN   NaN"
      ]
     },
     "execution_count": 28,
     "metadata": {},
     "output_type": "execute_result"
    }
   ],
   "source": [
    "data.corr()"
   ]
  },
  {
   "cell_type": "code",
   "execution_count": 29,
   "id": "f7f2aa9e",
   "metadata": {},
   "outputs": [
    {
     "data": {
      "text/html": [
       "<div>\n",
       "<style scoped>\n",
       "    .dataframe tbody tr th:only-of-type {\n",
       "        vertical-align: middle;\n",
       "    }\n",
       "\n",
       "    .dataframe tbody tr th {\n",
       "        vertical-align: top;\n",
       "    }\n",
       "\n",
       "    .dataframe thead th {\n",
       "        text-align: right;\n",
       "    }\n",
       "</style>\n",
       "<table border=\"1\" class=\"dataframe\">\n",
       "  <thead>\n",
       "    <tr style=\"text-align: right;\">\n",
       "      <th></th>\n",
       "      <th>DATE</th>\n",
       "      <th>DESCRIPTION</th>\n",
       "      <th>UNIT</th>\n",
       "      <th>PLACE</th>\n",
       "      <th>month</th>\n",
       "      <th>day</th>\n",
       "      <th>year</th>\n",
       "    </tr>\n",
       "  </thead>\n",
       "  <tbody>\n",
       "    <tr>\n",
       "      <th>0</th>\n",
       "      <td>2022-04-01</td>\n",
       "      <td>Beef</td>\n",
       "      <td>1</td>\n",
       "      <td>Kolenchery</td>\n",
       "      <td>4</td>\n",
       "      <td>1</td>\n",
       "      <td>2022</td>\n",
       "    </tr>\n",
       "    <tr>\n",
       "      <th>1</th>\n",
       "      <td>2022-04-01</td>\n",
       "      <td>Fish</td>\n",
       "      <td>1</td>\n",
       "      <td>Kolenchery</td>\n",
       "      <td>4</td>\n",
       "      <td>1</td>\n",
       "      <td>2022</td>\n",
       "    </tr>\n",
       "    <tr>\n",
       "      <th>2</th>\n",
       "      <td>2022-04-03</td>\n",
       "      <td>Beef</td>\n",
       "      <td>2</td>\n",
       "      <td>Tripunithura</td>\n",
       "      <td>4</td>\n",
       "      <td>3</td>\n",
       "      <td>2022</td>\n",
       "    </tr>\n",
       "    <tr>\n",
       "      <th>3</th>\n",
       "      <td>2022-04-05</td>\n",
       "      <td>Prawns</td>\n",
       "      <td>1</td>\n",
       "      <td>Bangalore</td>\n",
       "      <td>4</td>\n",
       "      <td>5</td>\n",
       "      <td>2022</td>\n",
       "    </tr>\n",
       "    <tr>\n",
       "      <th>4</th>\n",
       "      <td>2022-04-06</td>\n",
       "      <td>Dates</td>\n",
       "      <td>1</td>\n",
       "      <td>Mangalore</td>\n",
       "      <td>4</td>\n",
       "      <td>6</td>\n",
       "      <td>2022</td>\n",
       "    </tr>\n",
       "    <tr>\n",
       "      <th>...</th>\n",
       "      <td>...</td>\n",
       "      <td>...</td>\n",
       "      <td>...</td>\n",
       "      <td>...</td>\n",
       "      <td>...</td>\n",
       "      <td>...</td>\n",
       "      <td>...</td>\n",
       "    </tr>\n",
       "    <tr>\n",
       "      <th>98</th>\n",
       "      <td>2022-06-26</td>\n",
       "      <td>Prawns</td>\n",
       "      <td>1</td>\n",
       "      <td>Kochi</td>\n",
       "      <td>6</td>\n",
       "      <td>26</td>\n",
       "      <td>2022</td>\n",
       "    </tr>\n",
       "    <tr>\n",
       "      <th>99</th>\n",
       "      <td>2022-06-28</td>\n",
       "      <td>Prawns</td>\n",
       "      <td>4</td>\n",
       "      <td>Kottayam</td>\n",
       "      <td>6</td>\n",
       "      <td>28</td>\n",
       "      <td>2022</td>\n",
       "    </tr>\n",
       "    <tr>\n",
       "      <th>100</th>\n",
       "      <td>2022-06-28</td>\n",
       "      <td>Fish</td>\n",
       "      <td>3</td>\n",
       "      <td>Kottayam</td>\n",
       "      <td>6</td>\n",
       "      <td>28</td>\n",
       "      <td>2022</td>\n",
       "    </tr>\n",
       "    <tr>\n",
       "      <th>101</th>\n",
       "      <td>2022-06-28</td>\n",
       "      <td>King Fish</td>\n",
       "      <td>1</td>\n",
       "      <td>Kottayam</td>\n",
       "      <td>6</td>\n",
       "      <td>28</td>\n",
       "      <td>2022</td>\n",
       "    </tr>\n",
       "    <tr>\n",
       "      <th>102</th>\n",
       "      <td>2022-06-28</td>\n",
       "      <td>Beef</td>\n",
       "      <td>4</td>\n",
       "      <td>Kottayam</td>\n",
       "      <td>6</td>\n",
       "      <td>28</td>\n",
       "      <td>2022</td>\n",
       "    </tr>\n",
       "  </tbody>\n",
       "</table>\n",
       "<p>103 rows × 7 columns</p>\n",
       "</div>"
      ],
      "text/plain": [
       "          DATE DESCRIPTION  UNIT          PLACE  month  day  year\n",
       "0   2022-04-01        Beef     1    Kolenchery       4    1  2022\n",
       "1   2022-04-01        Fish     1    Kolenchery       4    1  2022\n",
       "2   2022-04-03        Beef     2  Tripunithura       4    3  2022\n",
       "3   2022-04-05      Prawns     1     Bangalore       4    5  2022\n",
       "4   2022-04-06       Dates     1      Mangalore      4    6  2022\n",
       "..         ...         ...   ...            ...    ...  ...   ...\n",
       "98  2022-06-26      Prawns     1          Kochi      6   26  2022\n",
       "99  2022-06-28      Prawns     4       Kottayam      6   28  2022\n",
       "100 2022-06-28        Fish     3       Kottayam      6   28  2022\n",
       "101 2022-06-28   King Fish     1       Kottayam      6   28  2022\n",
       "102 2022-06-28        Beef     4       Kottayam      6   28  2022\n",
       "\n",
       "[103 rows x 7 columns]"
      ]
     },
     "execution_count": 29,
     "metadata": {},
     "output_type": "execute_result"
    }
   ],
   "source": [
    "data"
   ]
  },
  {
   "cell_type": "markdown",
   "id": "a26b5e89",
   "metadata": {},
   "source": [
    "# Boxplots are a way of summarizing data through visualizing the five number summary which consists of the minimum value, first quartile, median, third quartile, and maximum value of a data set."
   ]
  },
  {
   "cell_type": "code",
   "execution_count": 30,
   "id": "6947928b",
   "metadata": {},
   "outputs": [
    {
     "data": {
      "text/plain": [
       "<AxesSubplot:xlabel='UNIT', ylabel='month'>"
      ]
     },
     "execution_count": 30,
     "metadata": {},
     "output_type": "execute_result"
    },
    {
     "data": {
      "image/png": "[encoded data removed]",
      "text/plain": [
       "<Figure size 432x288 with 1 Axes>"
      ]
     },
     "metadata": {
      "needs_background": "light"
     },
     "output_type": "display_data"
    }
   ],
   "source": [
    "sns.boxplot(x=data['UNIT'],y=data['month'])       "
   ]
  },
  {
   "cell_type": "code",
   "execution_count": 44,
   "id": "9acf7eb2",
   "metadata": {},
   "outputs": [
    {
     "data": {
      "text/plain": [
       "<AxesSubplot:xlabel='DESCRIPTION', ylabel='month'>"
      ]
     },
     "execution_count": 44,
     "metadata": {},
     "output_type": "execute_result"
    },
    {
     "data": {
      "image/png": "[encoded data removed]",
      "text/plain": [
       "<Figure size 792x360 with 1 Axes>"
      ]
     },
     "metadata": {
      "needs_background": "light"
     },
     "output_type": "display_data"
    }
   ],
   "source": [
    "plt.figure(figsize=(11,5))  # given data has no outliers\n",
    "sns.boxplot(x=data['DESCRIPTION'],y=data['month'])"
   ]
  },
  {
   "cell_type": "code",
   "execution_count": 33,
   "id": "341546ac",
   "metadata": {},
   "outputs": [
    {
     "name": "stderr",
     "output_type": "stream",
     "text": [
      "c:\\users\\zishaan\\appdata\\local\\programs\\python\\python39\\lib\\site-packages\\seaborn\\_decorators.py:36: FutureWarning: Pass the following variable as a keyword arg: x. From version 0.12, the only valid positional argument will be `data`, and passing other arguments without an explicit keyword will result in an error or misinterpretation.\n",
      "  warnings.warn(\n"
     ]
    },
    {
     "data": {
      "text/plain": [
       "<AxesSubplot:xlabel='day', ylabel='count'>"
      ]
     },
     "execution_count": 33,
     "metadata": {},
     "output_type": "execute_result"
    },
    {
     "data": {
      "image/png": "[encoded data removed]",
      "text/plain": [
       "<Figure size 792x360 with 1 Axes>"
      ]
     },
     "metadata": {
      "needs_background": "light"
     },
     "output_type": "display_data"
    }
   ],
   "source": [
    "plt.figure(figsize=(11,5))\n",
    "sns.countplot(data['day'])"
   ]
  },
  {
   "cell_type": "markdown",
   "id": "54d32498",
   "metadata": {},
   "source": [
    "# to make data more usable i opted for one_hot encoding technique"
   ]
  },
  {
   "cell_type": "code",
   "execution_count": 59,
   "id": "5f9bc1f5",
   "metadata": {},
   "outputs": [
    {
     "data": {
      "text/html": [
       "<div>\n",
       "<style scoped>\n",
       "    .dataframe tbody tr th:only-of-type {\n",
       "        vertical-align: middle;\n",
       "    }\n",
       "\n",
       "    .dataframe tbody tr th {\n",
       "        vertical-align: top;\n",
       "    }\n",
       "\n",
       "    .dataframe thead th {\n",
       "        text-align: right;\n",
       "    }\n",
       "</style>\n",
       "<table border=\"1\" class=\"dataframe\">\n",
       "  <thead>\n",
       "    <tr style=\"text-align: right;\">\n",
       "      <th></th>\n",
       "      <th>Bangalore</th>\n",
       "      <th>Bangalore</th>\n",
       "      <th>Bangalore to US</th>\n",
       "      <th>Chennai</th>\n",
       "      <th>Eloor</th>\n",
       "      <th>Eroor - Vytila</th>\n",
       "      <th>Jabalpur - Madhyapradesh</th>\n",
       "      <th>Kadavanthra</th>\n",
       "      <th>Kakkanad</th>\n",
       "      <th>Kanjiramttom</th>\n",
       "      <th>...</th>\n",
       "      <th>Pune</th>\n",
       "      <th>Thrissur/ Guruvayoor</th>\n",
       "      <th>To Kottayam</th>\n",
       "      <th>Tripunithura</th>\n",
       "      <th>Tripunithura</th>\n",
       "      <th>Tripunithurra</th>\n",
       "      <th>United States</th>\n",
       "      <th>Vazhakala</th>\n",
       "      <th>kadavanthra</th>\n",
       "      <th>malappuram</th>\n",
       "    </tr>\n",
       "  </thead>\n",
       "  <tbody>\n",
       "    <tr>\n",
       "      <th>0</th>\n",
       "      <td>0</td>\n",
       "      <td>0</td>\n",
       "      <td>0</td>\n",
       "      <td>0</td>\n",
       "      <td>0</td>\n",
       "      <td>0</td>\n",
       "      <td>0</td>\n",
       "      <td>0</td>\n",
       "      <td>0</td>\n",
       "      <td>0</td>\n",
       "      <td>...</td>\n",
       "      <td>0</td>\n",
       "      <td>0</td>\n",
       "      <td>0</td>\n",
       "      <td>0</td>\n",
       "      <td>0</td>\n",
       "      <td>0</td>\n",
       "      <td>0</td>\n",
       "      <td>0</td>\n",
       "      <td>0</td>\n",
       "      <td>0</td>\n",
       "    </tr>\n",
       "    <tr>\n",
       "      <th>1</th>\n",
       "      <td>0</td>\n",
       "      <td>0</td>\n",
       "      <td>0</td>\n",
       "      <td>0</td>\n",
       "      <td>0</td>\n",
       "      <td>0</td>\n",
       "      <td>0</td>\n",
       "      <td>0</td>\n",
       "      <td>0</td>\n",
       "      <td>0</td>\n",
       "      <td>...</td>\n",
       "      <td>0</td>\n",
       "      <td>0</td>\n",
       "      <td>0</td>\n",
       "      <td>0</td>\n",
       "      <td>0</td>\n",
       "      <td>0</td>\n",
       "      <td>0</td>\n",
       "      <td>0</td>\n",
       "      <td>0</td>\n",
       "      <td>0</td>\n",
       "    </tr>\n",
       "    <tr>\n",
       "      <th>2</th>\n",
       "      <td>0</td>\n",
       "      <td>0</td>\n",
       "      <td>0</td>\n",
       "      <td>0</td>\n",
       "      <td>0</td>\n",
       "      <td>0</td>\n",
       "      <td>0</td>\n",
       "      <td>0</td>\n",
       "      <td>0</td>\n",
       "      <td>0</td>\n",
       "      <td>...</td>\n",
       "      <td>0</td>\n",
       "      <td>0</td>\n",
       "      <td>0</td>\n",
       "      <td>0</td>\n",
       "      <td>1</td>\n",
       "      <td>0</td>\n",
       "      <td>0</td>\n",
       "      <td>0</td>\n",
       "      <td>0</td>\n",
       "      <td>0</td>\n",
       "    </tr>\n",
       "    <tr>\n",
       "      <th>3</th>\n",
       "      <td>0</td>\n",
       "      <td>1</td>\n",
       "      <td>0</td>\n",
       "      <td>0</td>\n",
       "      <td>0</td>\n",
       "      <td>0</td>\n",
       "      <td>0</td>\n",
       "      <td>0</td>\n",
       "      <td>0</td>\n",
       "      <td>0</td>\n",
       "      <td>...</td>\n",
       "      <td>0</td>\n",
       "      <td>0</td>\n",
       "      <td>0</td>\n",
       "      <td>0</td>\n",
       "      <td>0</td>\n",
       "      <td>0</td>\n",
       "      <td>0</td>\n",
       "      <td>0</td>\n",
       "      <td>0</td>\n",
       "      <td>0</td>\n",
       "    </tr>\n",
       "    <tr>\n",
       "      <th>4</th>\n",
       "      <td>0</td>\n",
       "      <td>0</td>\n",
       "      <td>0</td>\n",
       "      <td>0</td>\n",
       "      <td>0</td>\n",
       "      <td>0</td>\n",
       "      <td>0</td>\n",
       "      <td>0</td>\n",
       "      <td>0</td>\n",
       "      <td>0</td>\n",
       "      <td>...</td>\n",
       "      <td>0</td>\n",
       "      <td>0</td>\n",
       "      <td>0</td>\n",
       "      <td>0</td>\n",
       "      <td>0</td>\n",
       "      <td>0</td>\n",
       "      <td>0</td>\n",
       "      <td>0</td>\n",
       "      <td>0</td>\n",
       "      <td>0</td>\n",
       "    </tr>\n",
       "    <tr>\n",
       "      <th>...</th>\n",
       "      <td>...</td>\n",
       "      <td>...</td>\n",
       "      <td>...</td>\n",
       "      <td>...</td>\n",
       "      <td>...</td>\n",
       "      <td>...</td>\n",
       "      <td>...</td>\n",
       "      <td>...</td>\n",
       "      <td>...</td>\n",
       "      <td>...</td>\n",
       "      <td>...</td>\n",
       "      <td>...</td>\n",
       "      <td>...</td>\n",
       "      <td>...</td>\n",
       "      <td>...</td>\n",
       "      <td>...</td>\n",
       "      <td>...</td>\n",
       "      <td>...</td>\n",
       "      <td>...</td>\n",
       "      <td>...</td>\n",
       "      <td>...</td>\n",
       "    </tr>\n",
       "    <tr>\n",
       "      <th>98</th>\n",
       "      <td>0</td>\n",
       "      <td>0</td>\n",
       "      <td>0</td>\n",
       "      <td>0</td>\n",
       "      <td>0</td>\n",
       "      <td>0</td>\n",
       "      <td>0</td>\n",
       "      <td>0</td>\n",
       "      <td>0</td>\n",
       "      <td>0</td>\n",
       "      <td>...</td>\n",
       "      <td>0</td>\n",
       "      <td>0</td>\n",
       "      <td>0</td>\n",
       "      <td>0</td>\n",
       "      <td>0</td>\n",
       "      <td>0</td>\n",
       "      <td>0</td>\n",
       "      <td>0</td>\n",
       "      <td>0</td>\n",
       "      <td>0</td>\n",
       "    </tr>\n",
       "    <tr>\n",
       "      <th>99</th>\n",
       "      <td>0</td>\n",
       "      <td>0</td>\n",
       "      <td>0</td>\n",
       "      <td>0</td>\n",
       "      <td>0</td>\n",
       "      <td>0</td>\n",
       "      <td>0</td>\n",
       "      <td>0</td>\n",
       "      <td>0</td>\n",
       "      <td>0</td>\n",
       "      <td>...</td>\n",
       "      <td>0</td>\n",
       "      <td>0</td>\n",
       "      <td>0</td>\n",
       "      <td>0</td>\n",
       "      <td>0</td>\n",
       "      <td>0</td>\n",
       "      <td>0</td>\n",
       "      <td>0</td>\n",
       "      <td>0</td>\n",
       "      <td>0</td>\n",
       "    </tr>\n",
       "    <tr>\n",
       "      <th>100</th>\n",
       "      <td>0</td>\n",
       "      <td>0</td>\n",
       "      <td>0</td>\n",
       "      <td>0</td>\n",
       "      <td>0</td>\n",
       "      <td>0</td>\n",
       "      <td>0</td>\n",
       "      <td>0</td>\n",
       "      <td>0</td>\n",
       "      <td>0</td>\n",
       "      <td>...</td>\n",
       "      <td>0</td>\n",
       "      <td>0</td>\n",
       "      <td>0</td>\n",
       "      <td>0</td>\n",
       "      <td>0</td>\n",
       "      <td>0</td>\n",
       "      <td>0</td>\n",
       "      <td>0</td>\n",
       "      <td>0</td>\n",
       "      <td>0</td>\n",
       "    </tr>\n",
       "    <tr>\n",
       "      <th>101</th>\n",
       "      <td>0</td>\n",
       "      <td>0</td>\n",
       "      <td>0</td>\n",
       "      <td>0</td>\n",
       "      <td>0</td>\n",
       "      <td>0</td>\n",
       "      <td>0</td>\n",
       "      <td>0</td>\n",
       "      <td>0</td>\n",
       "      <td>0</td>\n",
       "      <td>...</td>\n",
       "      <td>0</td>\n",
       "      <td>0</td>\n",
       "      <td>0</td>\n",
       "      <td>0</td>\n",
       "      <td>0</td>\n",
       "      <td>0</td>\n",
       "      <td>0</td>\n",
       "      <td>0</td>\n",
       "      <td>0</td>\n",
       "      <td>0</td>\n",
       "    </tr>\n",
       "    <tr>\n",
       "      <th>102</th>\n",
       "      <td>0</td>\n",
       "      <td>0</td>\n",
       "      <td>0</td>\n",
       "      <td>0</td>\n",
       "      <td>0</td>\n",
       "      <td>0</td>\n",
       "      <td>0</td>\n",
       "      <td>0</td>\n",
       "      <td>0</td>\n",
       "      <td>0</td>\n",
       "      <td>...</td>\n",
       "      <td>0</td>\n",
       "      <td>0</td>\n",
       "      <td>0</td>\n",
       "      <td>0</td>\n",
       "      <td>0</td>\n",
       "      <td>0</td>\n",
       "      <td>0</td>\n",
       "      <td>0</td>\n",
       "      <td>0</td>\n",
       "      <td>0</td>\n",
       "    </tr>\n",
       "  </tbody>\n",
       "</table>\n",
       "<p>103 rows × 32 columns</p>\n",
       "</div>"
      ],
      "text/plain": [
       "     Bangalore  Bangalore   Bangalore to US  Chennai  Eloor  Eroor - Vytila  \\\n",
       "0            0           0                0        0      0               0   \n",
       "1            0           0                0        0      0               0   \n",
       "2            0           0                0        0      0               0   \n",
       "3            0           1                0        0      0               0   \n",
       "4            0           0                0        0      0               0   \n",
       "..         ...         ...              ...      ...    ...             ...   \n",
       "98           0           0                0        0      0               0   \n",
       "99           0           0                0        0      0               0   \n",
       "100          0           0                0        0      0               0   \n",
       "101          0           0                0        0      0               0   \n",
       "102          0           0                0        0      0               0   \n",
       "\n",
       "     Jabalpur - Madhyapradesh  Kadavanthra  Kakkanad  Kanjiramttom  ...  Pune  \\\n",
       "0                           0            0         0             0  ...     0   \n",
       "1                           0            0         0             0  ...     0   \n",
       "2                           0            0         0             0  ...     0   \n",
       "3                           0            0         0             0  ...     0   \n",
       "4                           0            0         0             0  ...     0   \n",
       "..                        ...          ...       ...           ...  ...   ...   \n",
       "98                          0            0         0             0  ...     0   \n",
       "99                          0            0         0             0  ...     0   \n",
       "100                         0            0         0             0  ...     0   \n",
       "101                         0            0         0             0  ...     0   \n",
       "102                         0            0         0             0  ...     0   \n",
       "\n",
       "     Thrissur/ Guruvayoor  To Kottayam  Tripunithura  Tripunithura   \\\n",
       "0                       0            0             0              0   \n",
       "1                       0            0             0              0   \n",
       "2                       0            0             0              1   \n",
       "3                       0            0             0              0   \n",
       "4                       0            0             0              0   \n",
       "..                    ...          ...           ...            ...   \n",
       "98                      0            0             0              0   \n",
       "99                      0            0             0              0   \n",
       "100                     0            0             0              0   \n",
       "101                     0            0             0              0   \n",
       "102                     0            0             0              0   \n",
       "\n",
       "     Tripunithurra  United States  Vazhakala  kadavanthra  malappuram  \n",
       "0                0              0          0            0           0  \n",
       "1                0              0          0            0           0  \n",
       "2                0              0          0            0           0  \n",
       "3                0              0          0            0           0  \n",
       "4                0              0          0            0           0  \n",
       "..             ...            ...        ...          ...         ...  \n",
       "98               0              0          0            0           0  \n",
       "99               0              0          0            0           0  \n",
       "100              0              0          0            0           0  \n",
       "101              0              0          0            0           0  \n",
       "102              0              0          0            0           0  \n",
       "\n",
       "[103 rows x 32 columns]"
      ]
     },
     "execution_count": 59,
     "metadata": {},
     "output_type": "execute_result"
    }
   ],
   "source": [
    "Source1= pd.get_dummies(data['PLACE'],drop_first=True)\n",
    "Source1"
   ]
  },
  {
   "cell_type": "code",
   "execution_count": 35,
   "id": "89c75bf0",
   "metadata": {},
   "outputs": [
    {
     "data": {
      "text/html": [
       "<div>\n",
       "<style scoped>\n",
       "    .dataframe tbody tr th:only-of-type {\n",
       "        vertical-align: middle;\n",
       "    }\n",
       "\n",
       "    .dataframe tbody tr th {\n",
       "        vertical-align: top;\n",
       "    }\n",
       "\n",
       "    .dataframe thead th {\n",
       "        text-align: right;\n",
       "    }\n",
       "</style>\n",
       "<table border=\"1\" class=\"dataframe\">\n",
       "  <thead>\n",
       "    <tr style=\"text-align: right;\">\n",
       "      <th></th>\n",
       "      <th>Dates</th>\n",
       "      <th>Dry fruits</th>\n",
       "      <th>Dryfruits</th>\n",
       "      <th>Fish</th>\n",
       "      <th>Kadumanga</th>\n",
       "      <th>King Fish</th>\n",
       "      <th>Lemon</th>\n",
       "      <th>Mango</th>\n",
       "      <th>Prawns</th>\n",
       "    </tr>\n",
       "  </thead>\n",
       "  <tbody>\n",
       "    <tr>\n",
       "      <th>0</th>\n",
       "      <td>0</td>\n",
       "      <td>0</td>\n",
       "      <td>0</td>\n",
       "      <td>0</td>\n",
       "      <td>0</td>\n",
       "      <td>0</td>\n",
       "      <td>0</td>\n",
       "      <td>0</td>\n",
       "      <td>0</td>\n",
       "    </tr>\n",
       "    <tr>\n",
       "      <th>1</th>\n",
       "      <td>0</td>\n",
       "      <td>0</td>\n",
       "      <td>0</td>\n",
       "      <td>1</td>\n",
       "      <td>0</td>\n",
       "      <td>0</td>\n",
       "      <td>0</td>\n",
       "      <td>0</td>\n",
       "      <td>0</td>\n",
       "    </tr>\n",
       "    <tr>\n",
       "      <th>2</th>\n",
       "      <td>0</td>\n",
       "      <td>0</td>\n",
       "      <td>0</td>\n",
       "      <td>0</td>\n",
       "      <td>0</td>\n",
       "      <td>0</td>\n",
       "      <td>0</td>\n",
       "      <td>0</td>\n",
       "      <td>0</td>\n",
       "    </tr>\n",
       "    <tr>\n",
       "      <th>3</th>\n",
       "      <td>0</td>\n",
       "      <td>0</td>\n",
       "      <td>0</td>\n",
       "      <td>0</td>\n",
       "      <td>0</td>\n",
       "      <td>0</td>\n",
       "      <td>0</td>\n",
       "      <td>0</td>\n",
       "      <td>1</td>\n",
       "    </tr>\n",
       "    <tr>\n",
       "      <th>4</th>\n",
       "      <td>1</td>\n",
       "      <td>0</td>\n",
       "      <td>0</td>\n",
       "      <td>0</td>\n",
       "      <td>0</td>\n",
       "      <td>0</td>\n",
       "      <td>0</td>\n",
       "      <td>0</td>\n",
       "      <td>0</td>\n",
       "    </tr>\n",
       "  </tbody>\n",
       "</table>\n",
       "</div>"
      ],
      "text/plain": [
       "   Dates  Dry fruits  Dryfruits  Fish  Kadumanga  King Fish  Lemon  Mango  \\\n",
       "0      0           0          0     0          0          0      0      0   \n",
       "1      0           0          0     1          0          0      0      0   \n",
       "2      0           0          0     0          0          0      0      0   \n",
       "3      0           0          0     0          0          0      0      0   \n",
       "4      1           0          0     0          0          0      0      0   \n",
       "\n",
       "   Prawns  \n",
       "0       0  \n",
       "1       0  \n",
       "2       0  \n",
       "3       1  \n",
       "4       0  "
      ]
     },
     "execution_count": 35,
     "metadata": {},
     "output_type": "execute_result"
    }
   ],
   "source": [
    "Source= pd.get_dummies(data['DESCRIPTION'],drop_first=True)\n",
    "Source.head()"
   ]
  },
  {
   "cell_type": "code",
   "execution_count": 60,
   "id": "b06dcc8c",
   "metadata": {},
   "outputs": [
    {
     "data": {
      "text/html": [
       "<div>\n",
       "<style scoped>\n",
       "    .dataframe tbody tr th:only-of-type {\n",
       "        vertical-align: middle;\n",
       "    }\n",
       "\n",
       "    .dataframe tbody tr th {\n",
       "        vertical-align: top;\n",
       "    }\n",
       "\n",
       "    .dataframe thead th {\n",
       "        text-align: right;\n",
       "    }\n",
       "</style>\n",
       "<table border=\"1\" class=\"dataframe\">\n",
       "  <thead>\n",
       "    <tr style=\"text-align: right;\">\n",
       "      <th></th>\n",
       "      <th>UNIT</th>\n",
       "      <th>month</th>\n",
       "      <th>day</th>\n",
       "      <th>year</th>\n",
       "      <th>Dates</th>\n",
       "      <th>Dry fruits</th>\n",
       "      <th>Dryfruits</th>\n",
       "      <th>Fish</th>\n",
       "      <th>Kadumanga</th>\n",
       "      <th>King Fish</th>\n",
       "      <th>...</th>\n",
       "      <th>Pune</th>\n",
       "      <th>Thrissur/ Guruvayoor</th>\n",
       "      <th>To Kottayam</th>\n",
       "      <th>Tripunithura</th>\n",
       "      <th>Tripunithura</th>\n",
       "      <th>Tripunithurra</th>\n",
       "      <th>United States</th>\n",
       "      <th>Vazhakala</th>\n",
       "      <th>kadavanthra</th>\n",
       "      <th>malappuram</th>\n",
       "    </tr>\n",
       "  </thead>\n",
       "  <tbody>\n",
       "    <tr>\n",
       "      <th>0</th>\n",
       "      <td>1</td>\n",
       "      <td>4</td>\n",
       "      <td>1</td>\n",
       "      <td>2022</td>\n",
       "      <td>0</td>\n",
       "      <td>0</td>\n",
       "      <td>0</td>\n",
       "      <td>0</td>\n",
       "      <td>0</td>\n",
       "      <td>0</td>\n",
       "      <td>...</td>\n",
       "      <td>0</td>\n",
       "      <td>0</td>\n",
       "      <td>0</td>\n",
       "      <td>0</td>\n",
       "      <td>0</td>\n",
       "      <td>0</td>\n",
       "      <td>0</td>\n",
       "      <td>0</td>\n",
       "      <td>0</td>\n",
       "      <td>0</td>\n",
       "    </tr>\n",
       "    <tr>\n",
       "      <th>1</th>\n",
       "      <td>1</td>\n",
       "      <td>4</td>\n",
       "      <td>1</td>\n",
       "      <td>2022</td>\n",
       "      <td>0</td>\n",
       "      <td>0</td>\n",
       "      <td>0</td>\n",
       "      <td>1</td>\n",
       "      <td>0</td>\n",
       "      <td>0</td>\n",
       "      <td>...</td>\n",
       "      <td>0</td>\n",
       "      <td>0</td>\n",
       "      <td>0</td>\n",
       "      <td>0</td>\n",
       "      <td>0</td>\n",
       "      <td>0</td>\n",
       "      <td>0</td>\n",
       "      <td>0</td>\n",
       "      <td>0</td>\n",
       "      <td>0</td>\n",
       "    </tr>\n",
       "    <tr>\n",
       "      <th>2</th>\n",
       "      <td>2</td>\n",
       "      <td>4</td>\n",
       "      <td>3</td>\n",
       "      <td>2022</td>\n",
       "      <td>0</td>\n",
       "      <td>0</td>\n",
       "      <td>0</td>\n",
       "      <td>0</td>\n",
       "      <td>0</td>\n",
       "      <td>0</td>\n",
       "      <td>...</td>\n",
       "      <td>0</td>\n",
       "      <td>0</td>\n",
       "      <td>0</td>\n",
       "      <td>0</td>\n",
       "      <td>1</td>\n",
       "      <td>0</td>\n",
       "      <td>0</td>\n",
       "      <td>0</td>\n",
       "      <td>0</td>\n",
       "      <td>0</td>\n",
       "    </tr>\n",
       "    <tr>\n",
       "      <th>3</th>\n",
       "      <td>1</td>\n",
       "      <td>4</td>\n",
       "      <td>5</td>\n",
       "      <td>2022</td>\n",
       "      <td>0</td>\n",
       "      <td>0</td>\n",
       "      <td>0</td>\n",
       "      <td>0</td>\n",
       "      <td>0</td>\n",
       "      <td>0</td>\n",
       "      <td>...</td>\n",
       "      <td>0</td>\n",
       "      <td>0</td>\n",
       "      <td>0</td>\n",
       "      <td>0</td>\n",
       "      <td>0</td>\n",
       "      <td>0</td>\n",
       "      <td>0</td>\n",
       "      <td>0</td>\n",
       "      <td>0</td>\n",
       "      <td>0</td>\n",
       "    </tr>\n",
       "    <tr>\n",
       "      <th>4</th>\n",
       "      <td>1</td>\n",
       "      <td>4</td>\n",
       "      <td>6</td>\n",
       "      <td>2022</td>\n",
       "      <td>1</td>\n",
       "      <td>0</td>\n",
       "      <td>0</td>\n",
       "      <td>0</td>\n",
       "      <td>0</td>\n",
       "      <td>0</td>\n",
       "      <td>...</td>\n",
       "      <td>0</td>\n",
       "      <td>0</td>\n",
       "      <td>0</td>\n",
       "      <td>0</td>\n",
       "      <td>0</td>\n",
       "      <td>0</td>\n",
       "      <td>0</td>\n",
       "      <td>0</td>\n",
       "      <td>0</td>\n",
       "      <td>0</td>\n",
       "    </tr>\n",
       "    <tr>\n",
       "      <th>...</th>\n",
       "      <td>...</td>\n",
       "      <td>...</td>\n",
       "      <td>...</td>\n",
       "      <td>...</td>\n",
       "      <td>...</td>\n",
       "      <td>...</td>\n",
       "      <td>...</td>\n",
       "      <td>...</td>\n",
       "      <td>...</td>\n",
       "      <td>...</td>\n",
       "      <td>...</td>\n",
       "      <td>...</td>\n",
       "      <td>...</td>\n",
       "      <td>...</td>\n",
       "      <td>...</td>\n",
       "      <td>...</td>\n",
       "      <td>...</td>\n",
       "      <td>...</td>\n",
       "      <td>...</td>\n",
       "      <td>...</td>\n",
       "      <td>...</td>\n",
       "    </tr>\n",
       "    <tr>\n",
       "      <th>98</th>\n",
       "      <td>1</td>\n",
       "      <td>6</td>\n",
       "      <td>26</td>\n",
       "      <td>2022</td>\n",
       "      <td>0</td>\n",
       "      <td>0</td>\n",
       "      <td>0</td>\n",
       "      <td>0</td>\n",
       "      <td>0</td>\n",
       "      <td>0</td>\n",
       "      <td>...</td>\n",
       "      <td>0</td>\n",
       "      <td>0</td>\n",
       "      <td>0</td>\n",
       "      <td>0</td>\n",
       "      <td>0</td>\n",
       "      <td>0</td>\n",
       "      <td>0</td>\n",
       "      <td>0</td>\n",
       "      <td>0</td>\n",
       "      <td>0</td>\n",
       "    </tr>\n",
       "    <tr>\n",
       "      <th>99</th>\n",
       "      <td>4</td>\n",
       "      <td>6</td>\n",
       "      <td>28</td>\n",
       "      <td>2022</td>\n",
       "      <td>0</td>\n",
       "      <td>0</td>\n",
       "      <td>0</td>\n",
       "      <td>0</td>\n",
       "      <td>0</td>\n",
       "      <td>0</td>\n",
       "      <td>...</td>\n",
       "      <td>0</td>\n",
       "      <td>0</td>\n",
       "      <td>0</td>\n",
       "      <td>0</td>\n",
       "      <td>0</td>\n",
       "      <td>0</td>\n",
       "      <td>0</td>\n",
       "      <td>0</td>\n",
       "      <td>0</td>\n",
       "      <td>0</td>\n",
       "    </tr>\n",
       "    <tr>\n",
       "      <th>100</th>\n",
       "      <td>3</td>\n",
       "      <td>6</td>\n",
       "      <td>28</td>\n",
       "      <td>2022</td>\n",
       "      <td>0</td>\n",
       "      <td>0</td>\n",
       "      <td>0</td>\n",
       "      <td>1</td>\n",
       "      <td>0</td>\n",
       "      <td>0</td>\n",
       "      <td>...</td>\n",
       "      <td>0</td>\n",
       "      <td>0</td>\n",
       "      <td>0</td>\n",
       "      <td>0</td>\n",
       "      <td>0</td>\n",
       "      <td>0</td>\n",
       "      <td>0</td>\n",
       "      <td>0</td>\n",
       "      <td>0</td>\n",
       "      <td>0</td>\n",
       "    </tr>\n",
       "    <tr>\n",
       "      <th>101</th>\n",
       "      <td>1</td>\n",
       "      <td>6</td>\n",
       "      <td>28</td>\n",
       "      <td>2022</td>\n",
       "      <td>0</td>\n",
       "      <td>0</td>\n",
       "      <td>0</td>\n",
       "      <td>0</td>\n",
       "      <td>0</td>\n",
       "      <td>1</td>\n",
       "      <td>...</td>\n",
       "      <td>0</td>\n",
       "      <td>0</td>\n",
       "      <td>0</td>\n",
       "      <td>0</td>\n",
       "      <td>0</td>\n",
       "      <td>0</td>\n",
       "      <td>0</td>\n",
       "      <td>0</td>\n",
       "      <td>0</td>\n",
       "      <td>0</td>\n",
       "    </tr>\n",
       "    <tr>\n",
       "      <th>102</th>\n",
       "      <td>4</td>\n",
       "      <td>6</td>\n",
       "      <td>28</td>\n",
       "      <td>2022</td>\n",
       "      <td>0</td>\n",
       "      <td>0</td>\n",
       "      <td>0</td>\n",
       "      <td>0</td>\n",
       "      <td>0</td>\n",
       "      <td>0</td>\n",
       "      <td>...</td>\n",
       "      <td>0</td>\n",
       "      <td>0</td>\n",
       "      <td>0</td>\n",
       "      <td>0</td>\n",
       "      <td>0</td>\n",
       "      <td>0</td>\n",
       "      <td>0</td>\n",
       "      <td>0</td>\n",
       "      <td>0</td>\n",
       "      <td>0</td>\n",
       "    </tr>\n",
       "  </tbody>\n",
       "</table>\n",
       "<p>103 rows × 81 columns</p>\n",
       "</div>"
      ],
      "text/plain": [
       "     UNIT  month  day  year  Dates  Dry fruits  Dryfruits  Fish  Kadumanga  \\\n",
       "0       1      4    1  2022      0           0          0     0          0   \n",
       "1       1      4    1  2022      0           0          0     1          0   \n",
       "2       2      4    3  2022      0           0          0     0          0   \n",
       "3       1      4    5  2022      0           0          0     0          0   \n",
       "4       1      4    6  2022      1           0          0     0          0   \n",
       "..    ...    ...  ...   ...    ...         ...        ...   ...        ...   \n",
       "98      1      6   26  2022      0           0          0     0          0   \n",
       "99      4      6   28  2022      0           0          0     0          0   \n",
       "100     3      6   28  2022      0           0          0     1          0   \n",
       "101     1      6   28  2022      0           0          0     0          0   \n",
       "102     4      6   28  2022      0           0          0     0          0   \n",
       "\n",
       "     King Fish  ...  Pune  Thrissur/ Guruvayoor  To Kottayam  Tripunithura  \\\n",
       "0            0  ...     0                     0            0             0   \n",
       "1            0  ...     0                     0            0             0   \n",
       "2            0  ...     0                     0            0             0   \n",
       "3            0  ...     0                     0            0             0   \n",
       "4            0  ...     0                     0            0             0   \n",
       "..         ...  ...   ...                   ...          ...           ...   \n",
       "98           0  ...     0                     0            0             0   \n",
       "99           0  ...     0                     0            0             0   \n",
       "100          0  ...     0                     0            0             0   \n",
       "101          1  ...     0                     0            0             0   \n",
       "102          0  ...     0                     0            0             0   \n",
       "\n",
       "     Tripunithura   Tripunithurra  United States  Vazhakala  kadavanthra  \\\n",
       "0                0              0              0          0            0   \n",
       "1                0              0              0          0            0   \n",
       "2                1              0              0          0            0   \n",
       "3                0              0              0          0            0   \n",
       "4                0              0              0          0            0   \n",
       "..             ...            ...            ...        ...          ...   \n",
       "98               0              0              0          0            0   \n",
       "99               0              0              0          0            0   \n",
       "100              0              0              0          0            0   \n",
       "101              0              0              0          0            0   \n",
       "102              0              0              0          0            0   \n",
       "\n",
       "     malappuram  \n",
       "0             0  \n",
       "1             0  \n",
       "2             0  \n",
       "3             0  \n",
       "4             0  \n",
       "..          ...  \n",
       "98            0  \n",
       "99            0  \n",
       "100           0  \n",
       "101           0  \n",
       "102           0  \n",
       "\n",
       "[103 rows x 81 columns]"
      ]
     },
     "execution_count": 60,
     "metadata": {},
     "output_type": "execute_result"
    }
   ],
   "source": [
    "data=pd.concat([data,Source,Source1],axis=1)\n",
    "data.drop(['DATE','DESCRIPTION','PLACE'],axis=1)"
   ]
  },
  {
   "cell_type": "code",
   "execution_count": 61,
   "id": "a6a26ccf",
   "metadata": {
    "scrolled": true
   },
   "outputs": [
    {
     "data": {
      "text/html": [
       "<div>\n",
       "<style scoped>\n",
       "    .dataframe tbody tr th:only-of-type {\n",
       "        vertical-align: middle;\n",
       "    }\n",
       "\n",
       "    .dataframe tbody tr th {\n",
       "        vertical-align: top;\n",
       "    }\n",
       "\n",
       "    .dataframe thead th {\n",
       "        text-align: right;\n",
       "    }\n",
       "</style>\n",
       "<table border=\"1\" class=\"dataframe\">\n",
       "  <thead>\n",
       "    <tr style=\"text-align: right;\">\n",
       "      <th></th>\n",
       "      <th>UNIT</th>\n",
       "      <th>month</th>\n",
       "      <th>day</th>\n",
       "      <th>year</th>\n",
       "      <th>Dates</th>\n",
       "      <th>Dry fruits</th>\n",
       "      <th>Dryfruits</th>\n",
       "      <th>Fish</th>\n",
       "      <th>Kadumanga</th>\n",
       "      <th>King Fish</th>\n",
       "      <th>...</th>\n",
       "      <th>Pune</th>\n",
       "      <th>Thrissur/ Guruvayoor</th>\n",
       "      <th>To Kottayam</th>\n",
       "      <th>Tripunithura</th>\n",
       "      <th>Tripunithura</th>\n",
       "      <th>Tripunithurra</th>\n",
       "      <th>United States</th>\n",
       "      <th>Vazhakala</th>\n",
       "      <th>kadavanthra</th>\n",
       "      <th>malappuram</th>\n",
       "    </tr>\n",
       "  </thead>\n",
       "  <tbody>\n",
       "    <tr>\n",
       "      <th>UNIT</th>\n",
       "      <td>1.000000</td>\n",
       "      <td>0.237034</td>\n",
       "      <td>-0.072276</td>\n",
       "      <td>NaN</td>\n",
       "      <td>-0.061081</td>\n",
       "      <td>-0.028149</td>\n",
       "      <td>-0.061081</td>\n",
       "      <td>-0.100350</td>\n",
       "      <td>-0.065141</td>\n",
       "      <td>0.246241</td>\n",
       "      <td>...</td>\n",
       "      <td>-0.113950</td>\n",
       "      <td>0.388203</td>\n",
       "      <td>0.223706</td>\n",
       "      <td>-0.113950</td>\n",
       "      <td>0.025528</td>\n",
       "      <td>-0.065141</td>\n",
       "      <td>-0.107234</td>\n",
       "      <td>-0.113950</td>\n",
       "      <td>-0.065141</td>\n",
       "      <td>0.206866</td>\n",
       "    </tr>\n",
       "    <tr>\n",
       "      <th>month</th>\n",
       "      <td>0.237034</td>\n",
       "      <td>1.000000</td>\n",
       "      <td>0.066353</td>\n",
       "      <td>NaN</td>\n",
       "      <td>-0.031549</td>\n",
       "      <td>-0.056331</td>\n",
       "      <td>0.044023</td>\n",
       "      <td>-0.026535</td>\n",
       "      <td>-0.104439</td>\n",
       "      <td>0.068632</td>\n",
       "      <td>...</td>\n",
       "      <td>-0.182694</td>\n",
       "      <td>0.154771</td>\n",
       "      <td>0.057410</td>\n",
       "      <td>0.044023</td>\n",
       "      <td>-0.104439</td>\n",
       "      <td>0.025166</td>\n",
       "      <td>0.057410</td>\n",
       "      <td>-0.182694</td>\n",
       "      <td>0.154771</td>\n",
       "      <td>0.154771</td>\n",
       "    </tr>\n",
       "    <tr>\n",
       "      <th>day</th>\n",
       "      <td>-0.072276</td>\n",
       "      <td>0.066353</td>\n",
       "      <td>1.000000</td>\n",
       "      <td>NaN</td>\n",
       "      <td>-0.152643</td>\n",
       "      <td>0.135774</td>\n",
       "      <td>-0.159828</td>\n",
       "      <td>0.007642</td>\n",
       "      <td>0.064727</td>\n",
       "      <td>0.070898</td>\n",
       "      <td>...</td>\n",
       "      <td>-0.167014</td>\n",
       "      <td>-0.181738</td>\n",
       "      <td>-0.077241</td>\n",
       "      <td>0.070112</td>\n",
       "      <td>-0.157092</td>\n",
       "      <td>0.015434</td>\n",
       "      <td>-0.358365</td>\n",
       "      <td>0.113226</td>\n",
       "      <td>0.064727</td>\n",
       "      <td>-0.132445</td>\n",
       "    </tr>\n",
       "    <tr>\n",
       "      <th>year</th>\n",
       "      <td>NaN</td>\n",
       "      <td>NaN</td>\n",
       "      <td>NaN</td>\n",
       "      <td>NaN</td>\n",
       "      <td>NaN</td>\n",
       "      <td>NaN</td>\n",
       "      <td>NaN</td>\n",
       "      <td>NaN</td>\n",
       "      <td>NaN</td>\n",
       "      <td>NaN</td>\n",
       "      <td>...</td>\n",
       "      <td>NaN</td>\n",
       "      <td>NaN</td>\n",
       "      <td>NaN</td>\n",
       "      <td>NaN</td>\n",
       "      <td>NaN</td>\n",
       "      <td>NaN</td>\n",
       "      <td>NaN</td>\n",
       "      <td>NaN</td>\n",
       "      <td>NaN</td>\n",
       "      <td>NaN</td>\n",
       "    </tr>\n",
       "    <tr>\n",
       "      <th>Dates</th>\n",
       "      <td>-0.061081</td>\n",
       "      <td>-0.031549</td>\n",
       "      <td>-0.152643</td>\n",
       "      <td>NaN</td>\n",
       "      <td>1.000000</td>\n",
       "      <td>-0.024373</td>\n",
       "      <td>-0.030000</td>\n",
       "      <td>-0.062897</td>\n",
       "      <td>-0.017150</td>\n",
       "      <td>-0.046771</td>\n",
       "      <td>...</td>\n",
       "      <td>-0.030000</td>\n",
       "      <td>-0.017150</td>\n",
       "      <td>-0.039123</td>\n",
       "      <td>-0.030000</td>\n",
       "      <td>-0.017150</td>\n",
       "      <td>-0.017150</td>\n",
       "      <td>0.229522</td>\n",
       "      <td>-0.030000</td>\n",
       "      <td>-0.017150</td>\n",
       "      <td>-0.017150</td>\n",
       "    </tr>\n",
       "    <tr>\n",
       "      <th>...</th>\n",
       "      <td>...</td>\n",
       "      <td>...</td>\n",
       "      <td>...</td>\n",
       "      <td>...</td>\n",
       "      <td>...</td>\n",
       "      <td>...</td>\n",
       "      <td>...</td>\n",
       "      <td>...</td>\n",
       "      <td>...</td>\n",
       "      <td>...</td>\n",
       "      <td>...</td>\n",
       "      <td>...</td>\n",
       "      <td>...</td>\n",
       "      <td>...</td>\n",
       "      <td>...</td>\n",
       "      <td>...</td>\n",
       "      <td>...</td>\n",
       "      <td>...</td>\n",
       "      <td>...</td>\n",
       "      <td>...</td>\n",
       "      <td>...</td>\n",
       "    </tr>\n",
       "    <tr>\n",
       "      <th>Tripunithurra</th>\n",
       "      <td>-0.065141</td>\n",
       "      <td>0.025166</td>\n",
       "      <td>0.015434</td>\n",
       "      <td>NaN</td>\n",
       "      <td>-0.017150</td>\n",
       "      <td>-0.013933</td>\n",
       "      <td>-0.017150</td>\n",
       "      <td>-0.035956</td>\n",
       "      <td>-0.009804</td>\n",
       "      <td>-0.026737</td>\n",
       "      <td>...</td>\n",
       "      <td>-0.017150</td>\n",
       "      <td>-0.009804</td>\n",
       "      <td>-0.022365</td>\n",
       "      <td>-0.017150</td>\n",
       "      <td>-0.009804</td>\n",
       "      <td>1.000000</td>\n",
       "      <td>-0.022365</td>\n",
       "      <td>-0.017150</td>\n",
       "      <td>-0.009804</td>\n",
       "      <td>-0.009804</td>\n",
       "    </tr>\n",
       "    <tr>\n",
       "      <th>United States</th>\n",
       "      <td>-0.107234</td>\n",
       "      <td>0.057410</td>\n",
       "      <td>-0.358365</td>\n",
       "      <td>NaN</td>\n",
       "      <td>0.229522</td>\n",
       "      <td>-0.031785</td>\n",
       "      <td>0.229522</td>\n",
       "      <td>-0.082024</td>\n",
       "      <td>-0.022365</td>\n",
       "      <td>-0.060994</td>\n",
       "      <td>...</td>\n",
       "      <td>-0.039123</td>\n",
       "      <td>-0.022365</td>\n",
       "      <td>-0.051020</td>\n",
       "      <td>-0.039123</td>\n",
       "      <td>-0.022365</td>\n",
       "      <td>-0.022365</td>\n",
       "      <td>1.000000</td>\n",
       "      <td>-0.039123</td>\n",
       "      <td>-0.022365</td>\n",
       "      <td>-0.022365</td>\n",
       "    </tr>\n",
       "    <tr>\n",
       "      <th>Vazhakala</th>\n",
       "      <td>-0.113950</td>\n",
       "      <td>-0.182694</td>\n",
       "      <td>0.113226</td>\n",
       "      <td>NaN</td>\n",
       "      <td>-0.030000</td>\n",
       "      <td>-0.024373</td>\n",
       "      <td>-0.030000</td>\n",
       "      <td>-0.062897</td>\n",
       "      <td>-0.017150</td>\n",
       "      <td>-0.046771</td>\n",
       "      <td>...</td>\n",
       "      <td>-0.030000</td>\n",
       "      <td>-0.017150</td>\n",
       "      <td>-0.039123</td>\n",
       "      <td>-0.030000</td>\n",
       "      <td>-0.017150</td>\n",
       "      <td>-0.017150</td>\n",
       "      <td>-0.039123</td>\n",
       "      <td>1.000000</td>\n",
       "      <td>-0.017150</td>\n",
       "      <td>-0.017150</td>\n",
       "    </tr>\n",
       "    <tr>\n",
       "      <th>kadavanthra</th>\n",
       "      <td>-0.065141</td>\n",
       "      <td>0.154771</td>\n",
       "      <td>0.064727</td>\n",
       "      <td>NaN</td>\n",
       "      <td>-0.017150</td>\n",
       "      <td>-0.013933</td>\n",
       "      <td>-0.017150</td>\n",
       "      <td>-0.035956</td>\n",
       "      <td>-0.009804</td>\n",
       "      <td>-0.026737</td>\n",
       "      <td>...</td>\n",
       "      <td>-0.017150</td>\n",
       "      <td>-0.009804</td>\n",
       "      <td>-0.022365</td>\n",
       "      <td>-0.017150</td>\n",
       "      <td>-0.009804</td>\n",
       "      <td>-0.009804</td>\n",
       "      <td>-0.022365</td>\n",
       "      <td>-0.017150</td>\n",
       "      <td>1.000000</td>\n",
       "      <td>-0.009804</td>\n",
       "    </tr>\n",
       "    <tr>\n",
       "      <th>malappuram</th>\n",
       "      <td>0.206866</td>\n",
       "      <td>0.154771</td>\n",
       "      <td>-0.132445</td>\n",
       "      <td>NaN</td>\n",
       "      <td>-0.017150</td>\n",
       "      <td>-0.013933</td>\n",
       "      <td>-0.017150</td>\n",
       "      <td>-0.035956</td>\n",
       "      <td>-0.009804</td>\n",
       "      <td>-0.026737</td>\n",
       "      <td>...</td>\n",
       "      <td>-0.017150</td>\n",
       "      <td>-0.009804</td>\n",
       "      <td>-0.022365</td>\n",
       "      <td>-0.017150</td>\n",
       "      <td>-0.009804</td>\n",
       "      <td>-0.009804</td>\n",
       "      <td>-0.022365</td>\n",
       "      <td>-0.017150</td>\n",
       "      <td>-0.009804</td>\n",
       "      <td>1.000000</td>\n",
       "    </tr>\n",
       "  </tbody>\n",
       "</table>\n",
       "<p>81 rows × 81 columns</p>\n",
       "</div>"
      ],
      "text/plain": [
       "                   UNIT     month       day  year     Dates  Dry fruits  \\\n",
       "UNIT           1.000000  0.237034 -0.072276   NaN -0.061081   -0.028149   \n",
       "month          0.237034  1.000000  0.066353   NaN -0.031549   -0.056331   \n",
       "day           -0.072276  0.066353  1.000000   NaN -0.152643    0.135774   \n",
       "year                NaN       NaN       NaN   NaN       NaN         NaN   \n",
       "Dates         -0.061081 -0.031549 -0.152643   NaN  1.000000   -0.024373   \n",
       "...                 ...       ...       ...   ...       ...         ...   \n",
       "Tripunithurra -0.065141  0.025166  0.015434   NaN -0.017150   -0.013933   \n",
       "United States -0.107234  0.057410 -0.358365   NaN  0.229522   -0.031785   \n",
       "Vazhakala     -0.113950 -0.182694  0.113226   NaN -0.030000   -0.024373   \n",
       "kadavanthra   -0.065141  0.154771  0.064727   NaN -0.017150   -0.013933   \n",
       "malappuram     0.206866  0.154771 -0.132445   NaN -0.017150   -0.013933   \n",
       "\n",
       "               Dryfruits      Fish  Kadumanga  King Fish  ...      Pune  \\\n",
       "UNIT           -0.061081 -0.100350  -0.065141   0.246241  ... -0.113950   \n",
       "month           0.044023 -0.026535  -0.104439   0.068632  ... -0.182694   \n",
       "day            -0.159828  0.007642   0.064727   0.070898  ... -0.167014   \n",
       "year                 NaN       NaN        NaN        NaN  ...       NaN   \n",
       "Dates          -0.030000 -0.062897  -0.017150  -0.046771  ... -0.030000   \n",
       "...                  ...       ...        ...        ...  ...       ...   \n",
       "Tripunithurra  -0.017150 -0.035956  -0.009804  -0.026737  ... -0.017150   \n",
       "United States   0.229522 -0.082024  -0.022365  -0.060994  ... -0.039123   \n",
       "Vazhakala      -0.030000 -0.062897  -0.017150  -0.046771  ... -0.030000   \n",
       "kadavanthra    -0.017150 -0.035956  -0.009804  -0.026737  ... -0.017150   \n",
       "malappuram     -0.017150 -0.035956  -0.009804  -0.026737  ... -0.017150   \n",
       "\n",
       "               Thrissur/ Guruvayoor  To Kottayam  Tripunithura  Tripunithura   \\\n",
       "UNIT                       0.388203     0.223706     -0.113950       0.025528   \n",
       "month                      0.154771     0.057410      0.044023      -0.104439   \n",
       "day                       -0.181738    -0.077241      0.070112      -0.157092   \n",
       "year                            NaN          NaN           NaN            NaN   \n",
       "Dates                     -0.017150    -0.039123     -0.030000      -0.017150   \n",
       "...                             ...          ...           ...            ...   \n",
       "Tripunithurra             -0.009804    -0.022365     -0.017150      -0.009804   \n",
       "United States             -0.022365    -0.051020     -0.039123      -0.022365   \n",
       "Vazhakala                 -0.017150    -0.039123     -0.030000      -0.017150   \n",
       "kadavanthra               -0.009804    -0.022365     -0.017150      -0.009804   \n",
       "malappuram                -0.009804    -0.022365     -0.017150      -0.009804   \n",
       "\n",
       "               Tripunithurra  United States  Vazhakala  kadavanthra  \\\n",
       "UNIT               -0.065141      -0.107234  -0.113950    -0.065141   \n",
       "month               0.025166       0.057410  -0.182694     0.154771   \n",
       "day                 0.015434      -0.358365   0.113226     0.064727   \n",
       "year                     NaN            NaN        NaN          NaN   \n",
       "Dates              -0.017150       0.229522  -0.030000    -0.017150   \n",
       "...                      ...            ...        ...          ...   \n",
       "Tripunithurra       1.000000      -0.022365  -0.017150    -0.009804   \n",
       "United States      -0.022365       1.000000  -0.039123    -0.022365   \n",
       "Vazhakala          -0.017150      -0.039123   1.000000    -0.017150   \n",
       "kadavanthra        -0.009804      -0.022365  -0.017150     1.000000   \n",
       "malappuram         -0.009804      -0.022365  -0.017150    -0.009804   \n",
       "\n",
       "               malappuram  \n",
       "UNIT             0.206866  \n",
       "month            0.154771  \n",
       "day             -0.132445  \n",
       "year                  NaN  \n",
       "Dates           -0.017150  \n",
       "...                   ...  \n",
       "Tripunithurra   -0.009804  \n",
       "United States   -0.022365  \n",
       "Vazhakala       -0.017150  \n",
       "kadavanthra     -0.009804  \n",
       "malappuram       1.000000  \n",
       "\n",
       "[81 rows x 81 columns]"
      ]
     },
     "execution_count": 61,
     "metadata": {},
     "output_type": "execute_result"
    }
   ],
   "source": [
    "data.corr()"
   ]
  },
  {
   "cell_type": "markdown",
   "id": "9d0e6d84",
   "metadata": {},
   "source": [
    "# the truth table of these are ambiguous "
   ]
  },
  {
   "cell_type": "markdown",
   "id": "cae57524",
   "metadata": {},
   "source": [
    "# since dataset was very small and has correlation very less ,so above are the insights that i was able to find\n"
   ]
  }
 ],
 "metadata": {
  "kernelspec": {
   "display_name": "Python 3 (ipykernel)",
   "language": "python",
   "name": "python3"
  },
  "language_info": {
   "codemirror_mode": {
    "name": "ipython",
    "version": 3
   },
   "file_extension": ".py",
   "mimetype": "text/x-python",
   "name": "python",
   "nbconvert_exporter": "python",
   "pygments_lexer": "ipython3",
   "version": "3.9.0"
  }
 },
 "nbformat": 4,
 "nbformat_minor": 5
}
